{
  "nbformat": 4,
  "nbformat_minor": 0,
  "metadata": {
    "colab": {
      "name": "FMP_Understanding.ipynb",
      "provenance": [],
      "collapsed_sections": []
    },
    "kernelspec": {
      "name": "python3",
      "display_name": "Python 3"
    },
    "language_info": {
      "name": "python"
    }
  },
  "cells": [
    {
      "cell_type": "code",
      "source": [
        "import numpy as np\n",
        "import tensorflow as tf\n",
        "from tensorflow import keras\n",
        "import matplotlib.pyplot as plt\n",
        "from keras.layers import *"
      ],
      "metadata": {
        "id": "EqFWuVZe-n2C"
      },
      "execution_count": 1,
      "outputs": []
    },
    {
      "cell_type": "code",
      "source": [
        "from tensorflow.python.ops.numpy_ops import np_config\n",
        "np_config.enable_numpy_behavior()"
      ],
      "metadata": {
        "id": "wqRw7QjPFaCf"
      },
      "execution_count": 2,
      "outputs": []
    },
    {
      "cell_type": "code",
      "execution_count": 3,
      "metadata": {
        "id": "pB3-UdGSmGTL"
      },
      "outputs": [],
      "source": [
        "\"\"\"\n",
        "    Crude Implementation of how I interpreted the paper on Fractional Max Pooling.\n",
        "    It works when passing the values directly. In this class I considered that the\n",
        "    pool_ratio of both the rows and cols will be same.\n",
        "    And this is for understanding purpose only and hence needs more refinement.\n",
        "\"\"\"\n",
        "\n",
        "class FractionalMaxPooling(keras.layers.Layer):\n",
        "    def __init__(self, pool_ratio=None, pseudo_random=True, overlap=False, **kwargs):\n",
        "        self.pool_ratio = pool_ratio\n",
        "        self.pseudo_random = pseudo_random\n",
        "        self.overlap = overlap\n",
        "\n",
        "        super(FractionalMaxPooling, self).__init__(**kwargs)\n",
        "\n",
        "    @staticmethod\n",
        "    def _pseudo_fmp(alpha, n_out, u):\n",
        "        \"\"\"\n",
        "            This function takes inputs as pool_ratio or the alpha value and the \n",
        "            output shape of the pooling layer. It generates the sequences for\n",
        "            pooling based on the alpha values. The sequences are generated \n",
        "            based on the form : \n",
        "                        a_i = ceiling(alpha(i + u)), alpha=(1, 2), u = (0, 1)\n",
        "    \n",
        "        \"\"\"\n",
        "        out = np.zeros([n_out])\n",
        "        for i in range(n_out):\n",
        "            out[i] = np.ceil(alpha * (i + u))\n",
        "        out = out.astype(np.int32)\n",
        "        return out\n",
        "\n",
        "    @staticmethod\n",
        "    def _pool_regions(image, alpha, n_out):\n",
        "        \"\"\"\n",
        "            This functions calls the sequence generator and yields the pooling\n",
        "            regions for the images based on the sequence.\n",
        "        \"\"\"\n",
        "        a_i = FractionalMaxPooling._pseudo_fmp(alpha, n_out, 0)\n",
        "        b_i = FractionalMaxPooling._pseudo_fmp(alpha, n_out, 0)\n",
        "        for i in range(1, n_out):\n",
        "            for j in range(1, n_out):\n",
        "                im_region = image[(a_i[i-1]) : (a_i[i] - 1), (b_i[j - 1]) : (b_i[j]-1)]\n",
        "                yield im_region, i, j\n",
        "\n",
        "    \n",
        "    @staticmethod\n",
        "    def _image_segs(image):\n",
        "        for i in range(image.shape[0]):\n",
        "            for j in range(image.shape[-1]):\n",
        "                yield image[i,...,j], i\n",
        "        # if image.shape[0]:\n",
        "        #     for j in range(image.shape[-1]):\n",
        "        #         yield image[:,...,j], 0\n",
        "\n",
        "\n",
        "    @staticmethod\n",
        "    def _pool_images(images, pool_ratio):\n",
        "        alpha = pool_ratio\n",
        "        n_out = int(images.shape[1] / alpha)\n",
        "\n",
        "        outss = tf.Variable(tf.zeros([images.shape[0], n_out, n_out, 3]), trainable=True)\n",
        "        for imgs, m in (FractionalMaxPooling._image_segs(images)):\n",
        "            for i in range(3):\n",
        "                output = np.zeros((n_out, n_out))\n",
        "                for im_region, j, k in FractionalMaxPooling._pool_regions(imgs, alpha, n_out):\n",
        "                    if im_region.size <= 0:\n",
        "                        output[j, k] = imgs[j, k]\n",
        "\n",
        "                    elif im_region.size  > 0:\n",
        "                        output[j, k] = tf.reduce_max(im_region, axis=(0, 1))\n",
        "\n",
        "                output = np.reshape(output, (1, n_out, n_out, 1))\n",
        "                outss[m, 0:n_out, 0:n_out, i].assign(output[0, 0:n_out, 0:n_out, 0])\n",
        "\n",
        "        return outss\n",
        "\n",
        "    def call(self, x):\n",
        "        x = FractionalMaxPooling._pool_images(x, self.pool_ratio)\n",
        "        return x\n",
        "\n",
        "    def compute_output_shape(self, input_shape):\n",
        "        if(input_shape[0]!=None):\n",
        "            batch_size = input_shape[0]\n",
        "        else:\n",
        "            batch_size = input_shape[0]\n",
        "        \n",
        "        width = int(input_shape[1] / self.pool_ratio)\n",
        "        height = int(input_shape[2] / self.pool_ratio)\n",
        "        channels = input_shape[3]\n",
        "        return (batch_size, width, height, channels)\n",
        "\n",
        "    def get_config(self):\n",
        "        config = {\n",
        "            \"pool_ratio\" : self.pool_ratio,\n",
        "            \"pseudo_random\" : self.pseudo_random,\n",
        "            \"overlap\" : self.overlap\n",
        "        }\n",
        "        base_config = super(FractionalMaxPooling, self).get_config()\n",
        "        return dict(list(base_config.items()) + list(config.items()))\n",
        "    \n",
        "    def build(self, input_shape):\n",
        "        self.input_spec = [InputSpec(shape=input_shape)]"
      ]
    },
    {
      "cell_type": "code",
      "source": [
        "(X_train, y_train), (X_test, y_test) = keras.datasets.cifar10.load_data()"
      ],
      "metadata": {
        "id": "s0jBmnO1p-B0"
      },
      "execution_count": 4,
      "outputs": []
    },
    {
      "cell_type": "code",
      "source": [
        "Y = FractionalMaxPooling(1.05)(X_train[0:10])"
      ],
      "metadata": {
        "id": "CDkLKk3ap6dV"
      },
      "execution_count": 5,
      "outputs": []
    },
    {
      "cell_type": "code",
      "source": [
        "Y.shape"
      ],
      "metadata": {
        "colab": {
          "base_uri": "https://localhost:8080/"
        },
        "id": "cL1Bqze183rz",
        "outputId": "795f1156-26da-4699-9d65-30c9c1d07158"
      },
      "execution_count": 6,
      "outputs": [
        {
          "output_type": "execute_result",
          "data": {
            "text/plain": [
              "TensorShape([10, 30, 30, 3])"
            ]
          },
          "metadata": {},
          "execution_count": 6
        }
      ]
    },
    {
      "cell_type": "code",
      "source": [
        "Z = MaxPooling2D((2,2))(X_train[0:10])"
      ],
      "metadata": {
        "id": "Zq70DhjVBQPl"
      },
      "execution_count": 7,
      "outputs": []
    },
    {
      "cell_type": "code",
      "source": [
        "Z.shape"
      ],
      "metadata": {
        "colab": {
          "base_uri": "https://localhost:8080/"
        },
        "id": "npEMUxBBBWE9",
        "outputId": "5589470a-2a74-4a4e-8779-2709ca997149"
      },
      "execution_count": 8,
      "outputs": [
        {
          "output_type": "execute_result",
          "data": {
            "text/plain": [
              "TensorShape([10, 16, 16, 3])"
            ]
          },
          "metadata": {},
          "execution_count": 8
        }
      ]
    }
  ]
}
